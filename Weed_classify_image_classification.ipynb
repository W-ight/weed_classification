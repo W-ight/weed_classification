{
 "cells": [
  {
   "cell_type": "markdown",
   "id": "230e2bec",
   "metadata": {},
   "source": [
    "## Importing libraries"
   ]
  },
  {
   "cell_type": "code",
   "execution_count": 1,
   "id": "3eaa1e6b",
   "metadata": {},
   "outputs": [],
   "source": [
    "import tensorflow as tf\n",
    "import os\n",
    "import shutil\n",
    "import random## os, random,shutil libraries are used in python for file and directory operations.\n",
    "from tensorflow.keras.preprocessing.image import ImageDataGenerator,load_img,img_to_array,save_img\n",
    "import xml.etree.ElementTree as ET"
   ]
  },
  {
   "cell_type": "markdown",
   "id": "6a44aa29",
   "metadata": {},
   "source": [
    "## Seprating images into classes"
   ]
  },
  {
   "cell_type": "code",
   "execution_count": 8,
   "id": "33c234bf",
   "metadata": {},
   "outputs": [
    {
     "name": "stdout",
     "output_type": "stream",
     "text": [
      "Images separated into class folders.\n"
     ]
    }
   ],
   "source": [
    "# Set the path to the directory containing the XML files\n",
    "xml_dir = r'C:\\Users\\rakes\\Weed_classification\\weed_image_data\\Ronin_OPEN_DB\\annotations'\n",
    "\n",
    "# Set the path to the directory containing the images\n",
    "image_dir = r'C:\\Users\\rakes\\Weed_classification\\weed_image_data\\Ronin_OPEN_DB\\raw images'\n",
    "\n",
    "# Set the path to the directory where the class folders will be created\n",
    "output_dir = r'C:\\Users\\rakes\\Weed_classification\\weed_image_data\\Ronin_OPEN_DB\\Labeled_images'\n",
    "\n",
    "# Get the list of XML files\n",
    "xml_files = os.listdir(xml_dir)\n",
    "\n",
    "# Iterate through the XML files and extract class information\n",
    "for xml_file in xml_files:\n",
    "    xml_path = os.path.join(xml_dir, xml_file)\n",
    "    \n",
    "    # Parse the XML file\n",
    "    tree = ET.parse(xml_path)\n",
    "    root = tree.getroot()\n",
    "    \n",
    "    # Get the class label from the XML file\n",
    "    class_label = root.find('object').find('name').text\n",
    "    \n",
    "    # Create the class directory if it doesn't exist\n",
    "    class_dir = os.path.join(output_dir, class_label)\n",
    "    if not os.path.exists(class_dir):\n",
    "        os.makedirs(class_dir)\n",
    "    \n",
    "    # Move the corresponding image file to the class directory\n",
    "    image_file = xml_file[:-4] + '.jpg'  # Assuming image files have the same name as XML files\n",
    "    image_path = os.path.join(image_dir, image_file)\n",
    "    destination_path = os.path.join(class_dir, image_file)\n",
    "    shutil.copyfile(image_path, destination_path)\n",
    "\n",
    "print(\"Images separated into class folders.\")"
   ]
  },
  {
   "cell_type": "markdown",
   "id": "5e9181a5",
   "metadata": {},
   "source": [
    "## Getting the Dataset,resizing and splitting it"
   ]
  },
  {
   "cell_type": "code",
   "execution_count": 2,
   "id": "205af848",
   "metadata": {},
   "outputs": [
    {
     "name": "stdout",
     "output_type": "stream",
     "text": [
      "Images resized and saved in separate class folders.\n"
     ]
    }
   ],
   "source": [
    "# Set the paths for your dataset\n",
    "class_dir = r'C:\\Users\\rakes\\Weed_classification\\weed_image_data\\Ronin_OPEN_DB\\Labeled_images'\n",
    "# Create separate directories for resized images\n",
    "resized_dir = r'C:\\Users\\rakes\\Weed_classification\\weed_image_data\\Ronin_OPEN_DB\\resized_images'\n",
    "resized_weed_dir = os.path.join(resized_dir, 'weed')\n",
    "resized_crop_dir = os.path.join(resized_dir, 'crop')\n",
    "# Set the target size for resizing\n",
    "target_size = (257,360)  # Specify the desired width and height\n",
    "\n",
    "# Create the output directory if it doesn't exist\n",
    "#if not os.path.exists(output_dir):\n",
    " #   os.makedirs(output_dir)\n",
    "    # Create the resized image directories if they don't exist\n",
    "if not os.path.exists(resized_dir):\n",
    "    os.makedirs(resized_dir)\n",
    "if not os.path.exists(resized_weed_dir):\n",
    "    os.makedirs(resized_weed_dir)\n",
    "if not os.path.exists(resized_crop_dir):\n",
    "    os.makedirs(resized_crop_dir)\n",
    "\n",
    "# Iterate through the class folders\n",
    "\n",
    "# Iterate through the class folders\n",
    "for class_name in os.listdir(class_dir):\n",
    "    class_path = os.path.join(class_dir, class_name)\n",
    "    \n",
    "    # Check if the path is a directory\n",
    "    if os.path.isdir(class_path):\n",
    "        \n",
    "        # Determine the target resized directory based on the class name\n",
    "        if class_name.lower() == 'weed':\n",
    "            target_resized_dir = resized_weed_dir\n",
    "        elif class_name.lower() == 'crop':\n",
    "            target_resized_dir = resized_crop_dir\n",
    "        else:\n",
    "            continue\n",
    "        \n",
    "        # Iterate through the images in the class folder\n",
    "        for filename in os.listdir(class_path):\n",
    "            image_path = os.path.join(class_path, filename)\n",
    "            \n",
    "            # Load the image and resize it\n",
    "            image = tf.keras.preprocessing.image.load_img(image_path, target_size=target_size)\n",
    "            \n",
    "            # Save the resized image to the respective class directory\n",
    "            resized_image_path = os.path.join(target_resized_dir, filename)\n",
    "            image.save(resized_image_path)\n",
    "            \n",
    "print(\"Images resized and saved in separate class folders.\")"
   ]
  },
  {
   "cell_type": "markdown",
   "id": "aac6a1b1",
   "metadata": {},
   "source": [
    "## Data augmentation"
   ]
  },
  {
   "cell_type": "code",
   "execution_count": 3,
   "id": "94599e2d",
   "metadata": {},
   "outputs": [
    {
     "name": "stdout",
     "output_type": "stream",
     "text": [
      "Data augmentation completed.\n"
     ]
    }
   ],
   "source": [
    "# Set the path to the directory containing your original training images\n",
    "original_dir = r'C:\\Users\\rakes\\Weed_classification\\weed_image_data\\Ronin_OPEN_DB\\resized_images'\n",
    "# Set the path to the directory where augmented images will be saved\n",
    "augmented_dir = r'C:\\Users\\rakes\\Weed_classification\\weed_image_data\\Ronin_OPEN_DB\\augmenteted_images_set'\n",
    "\n",
    "# Set the target size for resizing (if desired)\n",
    "#target_size = (256, 350)  # Specify the desired width and height\n",
    "# Create the augmented directory if it doesn't exist\n",
    "if not os.path.exists(augmented_dir):\n",
    "    os.makedirs(augmented_dir)\n",
    "\n",
    "# Define the augmentation parameters\n",
    "augmentation_params = {\n",
    "    'rotation_range': 20,\n",
    "    'width_shift_range': 0.2,\n",
    "    'height_shift_range': 0.2,\n",
    "    'shear_range': 0.2,\n",
    "    'zoom_range': 0.2,\n",
    "    'horizontal_flip': True,\n",
    "    'vertical_flip': True\n",
    "}\n",
    "fixed_augmented_images=3\n",
    "\n",
    "# Iterate through the original class folders\n",
    "for class_name in os.listdir(original_dir):\n",
    "    class_dir = os.path.join(original_dir, class_name)\n",
    "    \n",
    "    # Check if the path is a directory\n",
    "    if os.path.isdir(class_dir):\n",
    "        \n",
    "        # Create a subdirectory for the augmented images of this class\n",
    "        augmented_class_dir = os.path.join(augmented_dir, class_name)\n",
    "        if not os.path.exists(augmented_class_dir):\n",
    "            os.makedirs(augmented_class_dir)\n",
    "        \n",
    "        # Set up the image data generator for augmentation\n",
    "        image_data_generator = ImageDataGenerator(**augmentation_params)\n",
    "        \n",
    "        # Get the list of image files in the original class folder\n",
    "        image_files = os.listdir(class_dir)\n",
    "        \n",
    "        # Iterate through the image files\n",
    "        for filename in image_files:\n",
    "            image_path = os.path.join(class_dir, filename)\n",
    "            \n",
    "            # Load the image\n",
    "            image = tf.keras.preprocessing.image.load_img(image_path)\n",
    "            \n",
    "            # Convert the image to an array\n",
    "            image_array = tf.keras.preprocessing.image.img_to_array(image)\n",
    "            \n",
    "            # Reshape the array to match the expected input shape for data augmentation\n",
    "            image_array = image_array.reshape((1,) + image_array.shape)\n",
    "            \n",
    "            # Generate augmented images\n",
    "            augmented_images = image_data_generator.flow(image_array, batch_size=1)\n",
    "            \n",
    "            # Save the augmented images\n",
    "            for i in  range(fixed_augmented_images):\n",
    "                augmented_image=next(augmented_images)\n",
    "                augmented_filename = f\"augmented_{i}_{filename}\"\n",
    "                augmented_image_path = os.path.join(augmented_class_dir, augmented_filename)\n",
    "                augmented_image = tf.keras.preprocessing.image.array_to_img(augmented_image[0])\n",
    "                augmented_image.save(augmented_image_path)\n",
    "                \n",
    "print(\"Data augmentation completed.\")"
   ]
  },
  {
   "cell_type": "markdown",
   "id": "e5bef216",
   "metadata": {},
   "source": [
    "## splitting the dataset"
   ]
  },
  {
   "cell_type": "code",
   "execution_count": 4,
   "id": "28cd4eab",
   "metadata": {},
   "outputs": [
    {
     "name": "stdout",
     "output_type": "stream",
     "text": [
      "Dataset split into train, test, and validation sets.\n"
     ]
    }
   ],
   "source": [
    "# Set the path to the directory containing the augmented class folders\n",
    "augmented_dir = r'C:\\Users\\rakes\\Weed_classification\\weed_image_data\\Ronin_OPEN_DB\\augmenteted_images_set'\n",
    "\n",
    "# Set the path to the directory where the train, test, and validation sets will be saved\n",
    "output_dir = r'C:\\Users\\rakes\\Weed_classification\\weed_image_data\\Ronin_OPEN_DB\\slpit_dataset'\n",
    "\n",
    "# Set the train, test, and validation ratios\n",
    "train_ratio = 0.7\n",
    "test_ratio = 0.15\n",
    "validation_ratio = 0.15\n",
    "\n",
    "\n",
    "# Iterate through the augmented class folders\n",
    "for class_name in os.listdir(augmented_dir):\n",
    "    class_dir = os.path.join(augmented_dir, class_name)\n",
    "    \n",
    "    # Check if the path is a directory\n",
    "    if os.path.isdir(class_dir):\n",
    "        \n",
    "        # Create separate directories for train, test, and validation sets for each class\n",
    "        train_dir = os.path.join(output_dir, 'train', class_name)\n",
    "        test_dir = os.path.join(output_dir, 'test', class_name)\n",
    "        validation_dir = os.path.join(output_dir, 'validation', class_name)\n",
    "        \n",
    "        # Create the train, test, and validation directories if they don't exist\n",
    "        if not os.path.exists(train_dir):\n",
    "            os.makedirs(train_dir)\n",
    "        if not os.path.exists(test_dir):\n",
    "            os.makedirs(test_dir)\n",
    "        if not os.path.exists(validation_dir):\n",
    "            os.makedirs(validation_dir)\n",
    "        \n",
    "        # Get the list of augmented image files in the class folder\n",
    "        image_files = os.listdir(class_dir)\n",
    "        \n",
    "        # Shuffle the image files randomly\n",
    "        random.shuffle(image_files)\n",
    "        \n",
    "        # Calculate the number of images for each set\n",
    "        num_images = len(image_files)\n",
    "        num_train = int(train_ratio * num_images)\n",
    "        num_test = int(test_ratio * num_images)\n",
    "        num_validation = num_images - num_train - num_test\n",
    "        \n",
    "        # Split the images into train, test, and validation sets\n",
    "        train_images = image_files[:num_train]\n",
    "        test_images = image_files[num_train:num_train+num_test]\n",
    "        validation_images = image_files[num_train+num_test:]\n",
    "        \n",
    "        # Move the train images to the train directory\n",
    "        for train_image in train_images:\n",
    "            train_image_path = os.path.join(class_dir, train_image)\n",
    "            destination_path = os.path.join(train_dir, train_image)\n",
    "            shutil.copyfile(train_image_path, destination_path)\n",
    "        \n",
    "        # Move the test images to the test directory\n",
    "        for test_image in test_images:\n",
    "            test_image_path = os.path.join(class_dir, test_image)\n",
    "            destination_path = os.path.join(test_dir, test_image)\n",
    "            shutil.copyfile(test_image_path, destination_path)\n",
    "        \n",
    "        # Move the validation images to the validation directory\n",
    "        for validation_image in validation_images:\n",
    "            validation_image_path = os.path.join(class_dir, validation_image)\n",
    "            destination_path = os.path.join(validation_dir, validation_image)\n",
    "            shutil.copyfile(validation_image_path, destination_path)\n",
    "\n",
    "print(\"Dataset split into train, test, and validation sets.\")\n"
   ]
  },
  {
   "cell_type": "code",
   "execution_count": 5,
   "id": "7af025d5",
   "metadata": {},
   "outputs": [
    {
     "ename": "NameError",
     "evalue": "name 'train_files' is not defined",
     "output_type": "error",
     "traceback": [
      "\u001b[1;31m---------------------------------------------------------------------------\u001b[0m",
      "\u001b[1;31mNameError\u001b[0m                                 Traceback (most recent call last)",
      "\u001b[1;32m~\\AppData\\Local\\Temp\\ipykernel_8028\\95319687.py\u001b[0m in \u001b[0;36m<module>\u001b[1;34m\u001b[0m\n\u001b[1;32m----> 1\u001b[1;33m \u001b[0mprint\u001b[0m\u001b[1;33m(\u001b[0m\u001b[1;34m\"Train set contain: \"\u001b[0m\u001b[1;33m,\u001b[0m\u001b[0mlen\u001b[0m\u001b[1;33m(\u001b[0m\u001b[0mtrain_files\u001b[0m\u001b[1;33m)\u001b[0m\u001b[1;33m)\u001b[0m\u001b[1;33m\u001b[0m\u001b[1;33m\u001b[0m\u001b[0m\n\u001b[0m\u001b[0;32m      2\u001b[0m \u001b[0mprint\u001b[0m\u001b[1;33m(\u001b[0m\u001b[1;34m\"Test set contain: \"\u001b[0m\u001b[1;33m,\u001b[0m\u001b[0mlen\u001b[0m\u001b[1;33m(\u001b[0m\u001b[0mtest_files\u001b[0m\u001b[1;33m)\u001b[0m\u001b[1;33m)\u001b[0m\u001b[1;33m\u001b[0m\u001b[1;33m\u001b[0m\u001b[0m\n\u001b[0;32m      3\u001b[0m \u001b[0mprint\u001b[0m\u001b[1;33m(\u001b[0m\u001b[1;34m\"Validation set contain: \"\u001b[0m\u001b[1;33m,\u001b[0m\u001b[0mlen\u001b[0m\u001b[1;33m(\u001b[0m\u001b[0mval_files\u001b[0m\u001b[1;33m)\u001b[0m\u001b[1;33m)\u001b[0m\u001b[1;33m\u001b[0m\u001b[1;33m\u001b[0m\u001b[0m\n",
      "\u001b[1;31mNameError\u001b[0m: name 'train_files' is not defined"
     ]
    }
   ],
   "source": [
    "print(\"Train set contain: \",len(train_files))\n",
    "print(\"Test set contain: \",len(test_files))\n",
    "print(\"Validation set contain: \",len(val_files))"
   ]
  },
  {
   "cell_type": "markdown",
   "id": "51ba7c7c",
   "metadata": {},
   "source": [
    "## Now applying algorithm"
   ]
  },
  {
   "cell_type": "code",
   "execution_count": 2,
   "id": "ce741531",
   "metadata": {},
   "outputs": [],
   "source": [
    "from tensorflow.keras.models import Sequential\n",
    "from tensorflow.keras.layers import Conv2D, MaxPooling2D, Flatten, Dense, Dropout\n",
    "from tensorflow.keras.preprocessing.image import ImageDataGenerator"
   ]
  },
  {
   "cell_type": "code",
   "execution_count": 3,
   "id": "c43c3fe8",
   "metadata": {},
   "outputs": [
    {
     "name": "stdout",
     "output_type": "stream",
     "text": [
      "Found 5034 images belonging to 2 classes.\n",
      "Found 1367 images belonging to 2 classes.\n",
      "Found 1382 images belonging to 2 classes.\n",
      "Epoch 1/7\n",
      "157/157 [==============================] - 181s 1s/step - loss: 0.2119 - accuracy: 0.9340 - val_loss: 0.1067 - val_accuracy: 0.9593\n",
      "Epoch 2/7\n",
      "157/157 [==============================] - 182s 1s/step - loss: 0.2589 - accuracy: 0.8950 - val_loss: 0.1979 - val_accuracy: 0.9295\n",
      "Epoch 3/7\n",
      "157/157 [==============================] - 183s 1s/step - loss: 0.1452 - accuracy: 0.9522 - val_loss: 0.1094 - val_accuracy: 0.9600\n",
      "Epoch 4/7\n",
      "157/157 [==============================] - 182s 1s/step - loss: 0.1212 - accuracy: 0.9618 - val_loss: 0.1061 - val_accuracy: 0.9600\n",
      "Epoch 5/7\n",
      "157/157 [==============================] - 177s 1s/step - loss: 0.1235 - accuracy: 0.9606 - val_loss: 0.1109 - val_accuracy: 0.9586\n",
      "Epoch 6/7\n",
      "157/157 [==============================] - 185s 1s/step - loss: 0.1038 - accuracy: 0.9652 - val_loss: 0.1073 - val_accuracy: 0.9608\n",
      "Epoch 7/7\n",
      "157/157 [==============================] - 179s 1s/step - loss: 0.1040 - accuracy: 0.9664 - val_loss: 0.1087 - val_accuracy: 0.9593\n",
      "43/43 [==============================] - 11s 252ms/step - loss: 0.0958 - accuracy: 0.9620\n",
      "Test Loss: 0.09580988436937332\n",
      "Test Accuracy: 0.96196049451828\n"
     ]
    }
   ],
   "source": [
    " #Set the paths to the train, test, and validation directories\n",
    "train_dir =r'C:\\Users\\rakes\\Weed_classification\\weed_image_data\\Ronin_OPEN_DB\\slpit_dataset\\train'\n",
    "test_dir = r'C:\\Users\\rakes\\Weed_classification\\weed_image_data\\Ronin_OPEN_DB\\slpit_dataset\\test'\n",
    "validation_dir = r'C:\\Users\\rakes\\Weed_classification\\weed_image_data\\Ronin_OPEN_DB\\slpit_dataset\\validation'\n",
    "\n",
    "# Set the image dimensions and the number of classes\n",
    "image_width = 360\n",
    "image_height = 257\n",
    "num_classes = 2\n",
    "\n",
    "# Set the batch size and number of epochs\n",
    "batch_size = 32\n",
    "epochs = 7\n",
    "\n",
    "# Create the CNN model\n",
    "model = Sequential()\n",
    "model.add(Conv2D(32, (3, 3), activation='relu', input_shape=(image_width, image_height, 3)))\n",
    "model.add(MaxPooling2D((2, 2)))\n",
    "model.add(Conv2D(64, (3, 3), activation='relu'))\n",
    "model.add(MaxPooling2D((2, 2)))\n",
    "model.add(Conv2D(128, (3, 3), activation='relu'))\n",
    "model.add(MaxPooling2D((2, 2)))\n",
    "model.add(Flatten())\n",
    "model.add(Dense(128, activation='relu'))\n",
    "model.add(Dropout(0.5))\n",
    "model.add(Dense(num_classes, activation='softmax'))\n",
    "\n",
    "# Compile the model\n",
    "model.compile(optimizer='adam',\n",
    "              loss='categorical_crossentropy',\n",
    "              metrics=['accuracy'])\n",
    "\n",
    "# Set up the image data generators\n",
    "train_datagen = ImageDataGenerator(rescale=1.0/255)\n",
    "test_datagen = ImageDataGenerator(rescale=1.0/255)\n",
    "validation_datagen = ImageDataGenerator(rescale=1.0/255)\n",
    "\n",
    "train_generator = train_datagen.flow_from_directory(\n",
    "    train_dir,\n",
    "    target_size=(image_width, image_height),\n",
    "    batch_size=batch_size,\n",
    "    class_mode='categorical'\n",
    ")\n",
    "\n",
    "test_generator = test_datagen.flow_from_directory(\n",
    "    test_dir,\n",
    "    target_size=(image_width, image_height),\n",
    "    batch_size=batch_size,\n",
    "    class_mode='categorical',\n",
    "    shuffle=False\n",
    ")\n",
    "\n",
    "validation_generator = validation_datagen.flow_from_directory(\n",
    "    validation_dir,\n",
    "    target_size=(image_width, image_height),\n",
    "    batch_size=batch_size,\n",
    "    class_mode='categorical',\n",
    ")\n",
    "\n",
    "# Train the model\n",
    "model.fit(\n",
    "    train_generator,\n",
    "    steps_per_epoch=train_generator.samples // batch_size,\n",
    "    epochs=epochs,\n",
    "    validation_data=validation_generator,\n",
    "    validation_steps=validation_generator.samples // batch_size\n",
    ")\n",
    "\n",
    "# Evaluate the model on the test set\n",
    "test_loss, test_accuracy = model.evaluate(test_generator)\n",
    "print('Test Loss:', test_loss)\n",
    "print('Test Accuracy:', test_accuracy)"
   ]
  },
  {
   "cell_type": "markdown",
   "id": "890423b9",
   "metadata": {},
   "source": [
    "## Performance analaysis of the model"
   ]
  },
  {
   "cell_type": "code",
   "execution_count": 5,
   "id": "8d8ec1f0",
   "metadata": {},
   "outputs": [],
   "source": [
    "import numpy as np\n",
    "from sklearn.metrics import classification_report, confusion_matrix\n",
    "import seaborn as sns\n",
    "import matplotlib.pyplot as plt"
   ]
  },
  {
   "cell_type": "code",
   "execution_count": 6,
   "id": "337659f5",
   "metadata": {},
   "outputs": [
    {
     "name": "stdout",
     "output_type": "stream",
     "text": [
      "43/43 [==============================] - 11s 253ms/step\n",
      "              precision    recall  f1-score   support\n",
      "\n",
      "        crop       0.98      0.90      0.94       444\n",
      "        weed       0.95      0.99      0.97       923\n",
      "\n",
      "    accuracy                           0.96      1367\n",
      "   macro avg       0.97      0.95      0.96      1367\n",
      "weighted avg       0.96      0.96      0.96      1367\n",
      "\n"
     ]
    },
    {
     "data": {
      "image/png": "[encoded data removed]",
      "text/plain": [
       "<Figure size 800x600 with 2 Axes>"
      ]
     },
     "metadata": {},
     "output_type": "display_data"
    }
   ],
   "source": [
    "\n",
    "# Make predictions on the test dataset\n",
    "predictions = model.predict(test_generator)\n",
    "\n",
    "# Convert the predicted probabilities to class labels\n",
    "predicted_labels = np.argmax(predictions, axis=1)\n",
    "\n",
    "# Get the true labels of the test dataset\n",
    "true_labels = test_generator.classes\n",
    "\n",
    "# Generate a classification report\n",
    "class_labels = list(test_generator.class_indices.keys())\n",
    "report = classification_report(true_labels, predicted_labels, target_names=class_labels)\n",
    "print(report)\n",
    "\n",
    "# Generate a confusion matrix\n",
    "cm = confusion_matrix(true_labels, predicted_labels)\n",
    "\n",
    "# Plot the confusion matrix\n",
    "plt.figure(figsize=(8, 6))\n",
    "sns.heatmap(cm, annot=True, cmap='Blues', fmt='g', xticklabels=class_labels, yticklabels=class_labels)\n",
    "plt.xlabel('Predicted')\n",
    "plt.ylabel('True')\n",
    "plt.title('Confusion Matrix')\n",
    "plt.show()"
   ]
  },
  {
   "cell_type": "code",
   "execution_count": 8,
   "id": "82af66e2",
   "metadata": {},
   "outputs": [
    {
     "name": "stdout",
     "output_type": "stream",
     "text": [
      "43/43 [==============================] - 11s 244ms/step\n"
     ]
    },
    {
     "data": {
      "image/png": "[encoded data removed]",
      "text/plain": [
       "<Figure size 640x480 with 1 Axes>"
      ]
     },
     "metadata": {},
     "output_type": "display_data"
    }
   ],
   "source": [
    "from sklearn.metrics import precision_recall_curve\n",
    "from sklearn.metrics import average_precision_score\n",
    "\n",
    "# Get the predicted class probabilities\n",
    "predicted_probabilities = model.predict(test_generator)\n",
    "\n",
    "# Extract the probabilities for the positive class\n",
    "positive_probabilities = predicted_probabilities[:, 1]\n",
    "\n",
    "# Calculate precision, recall, and thresholds\n",
    "precision, recall, thresholds = precision_recall_curve(true_labels, positive_probabilities)\n",
    "\n",
    "# Calculate average precision score\n",
    "average_precision = average_precision_score(true_labels, positive_probabilities)\n",
    "\n",
    "# Plot the precision-recall curve\n",
    "plt.plot(recall, precision, color='blue', label='Precision-Recall Curve (AP = %0.2f)' % average_precision)\n",
    "plt.xlabel('Recall')\n",
    "plt.ylabel('Precision')\n",
    "plt.title('Precision-Recall Curve')\n",
    "plt.legend(loc='lower left')\n",
    "plt.grid(True)\n",
    "plt.show()\n"
   ]
  },
  {
   "cell_type": "markdown",
   "id": "6b048e0d",
   "metadata": {},
   "source": [
    "## Predict on user input"
   ]
  },
  {
   "cell_type": "code",
   "execution_count": 10,
   "id": "09f5919c",
   "metadata": {},
   "outputs": [],
   "source": [
    "import cv2\n",
    "import numpy as np\n",
    "from tensorflow.keras.models import load_model"
   ]
  },
  {
   "cell_type": "code",
   "execution_count": 14,
   "id": "1550f76f",
   "metadata": {},
   "outputs": [
    {
     "name": "stdout",
     "output_type": "stream",
     "text": [
      "1/1 [==============================] - 0s 129ms/step\n",
      "Predicted class: weed\n"
     ]
    }
   ],
   "source": [
    "# Define the target image size for resizing\n",
    "target_size = (257, 360)\n",
    "\n",
    "class_names={\n",
    "    0:'crop',1:'weed'\n",
    "}\n",
    "\n",
    "# Function to preprocess the user input image\n",
    "def preprocess_image(image_path):\n",
    "    # Load the image using OpenCV\n",
    "    image = cv2.imread(image_path)\n",
    "    # Resize the image\n",
    "    image = cv2.resize(image, target_size)\n",
    "    # Convert the image to a numpy array and normalize the pixel values\n",
    "    image = image.astype(np.float32) / 255\n",
    "    # Expand the dimensions to match the input shape of the model\n",
    "    image = np.expand_dims(image, axis=0)\n",
    "    return image\n",
    "\n",
    "# Function to predict the class of the user input image\n",
    "def predict_class(image_path):\n",
    "    # Preprocess the image\n",
    "    image = preprocess_image(image_path)\n",
    "    # Make predictions using the model\n",
    "    predictions = model.predict(image)\n",
    "    # Get the predicted class label\n",
    "    predicted_label = np.argmax(predictions[0])\n",
    "    return predicted_label\n",
    "\n",
    "# Take user input for the image file path00\n",
    "image_path = r\"C:\\Users\\rakes\\Weed_classification\\weed_image_data\\Ronin_OPEN_DB\\slpit_dataset\\test\\weed\\augmented_0_32630.jpg\"\n",
    "\n",
    "# Predict the class of the user input image\n",
    "predicted_class = predict_class(image_path)\n",
    "#get the name of the predicited class\n",
    "predicted_class_name=class_names[predicted_class]\n",
    "\n",
    "# Print the predicted class\n",
    "print(\"Predicted class:\", predicted_class_name)"
   ]
  },
  {
   "cell_type": "code",
   "execution_count": null,
   "id": "9cf2dab1",
   "metadata": {},
   "outputs": [],
   "source": []
  }
 ],
 "metadata": {
  "kernelspec": {
   "display_name": "Python 3 (ipykernel)",
   "language": "python",
   "name": "python3"
  },
  "language_info": {
   "codemirror_mode": {
    "name": "ipython",
    "version": 3
   },
   "file_extension": ".py",
   "mimetype": "text/x-python",
   "name": "python",
   "nbconvert_exporter": "python",
   "pygments_lexer": "ipython3",
   "version": "3.9.13"
  }
 },
 "nbformat": 4,
 "nbformat_minor": 5
}
